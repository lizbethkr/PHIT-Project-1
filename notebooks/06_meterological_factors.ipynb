{
 "cells": [
  {
   "cell_type": "markdown",
   "metadata": {},
   "source": [
    "# Meterological Factors"
   ]
  },
  {
   "cell_type": "markdown",
   "metadata": {},
   "source": [
    "This notebook aims to consider other environmental factors such as humidity, precipitation, and wind speed. Monitoring these factors can be important to predicting its influence on heat events observed."
   ]
  },
  {
   "cell_type": "markdown",
   "metadata": {},
   "source": [
    "## Learnings:\n",
    "- find trends meteorological data (humidity, precipitation, and wind speed) and how these affect temperature in certain regions\n",
    "- identify the correlation between meteorological factors and temperature using correlation analysis using statistical methods such as Pearson Correlation Coefficient\n",
    "- visualize correlations through scatter plots, striving for a linear-shaped graph if the variables are hypothesized to have a positive relationship"
   ]
  },
  {
   "cell_type": "markdown",
   "metadata": {},
   "source": [
    "## Set Up"
   ]
  },
  {
   "cell_type": "code",
   "execution_count": 1,
   "metadata": {},
   "outputs": [
    {
     "name": "stdout",
     "output_type": "stream",
     "text": [
      "Processed file: CA_2003_clean.csv\n",
      "Processed file: CA_2004_clean.csv\n",
      "Processed file: CA_2005_clean.csv\n",
      "Processed file: CA_2006_clean.csv\n",
      "Processed file: CA_2007_clean.csv\n",
      "Processed file: CA_2008_clean.csv\n",
      "Processed file: CA_2009_clean.csv\n",
      "Processed file: CA_2010_clean.csv\n",
      "Processed file: CA_2011_clean.csv\n",
      "Processed file: CA_2012_clean.csv\n",
      "Processed file: CA_2013_clean.csv\n",
      "Processed file: CA_2014_clean.csv\n",
      "Processed file: CA_2015_clean.csv\n",
      "Processed file: CA_2016_clean.csv\n",
      "Processed file: CA_2017_clean.csv\n",
      "Processed file: CA_2018_clean.csv\n",
      "Processed file: CA_2019_clean.csv\n",
      "Processed file: CA_2020_clean.csv\n",
      "Processed file: CA_2021_clean.csv\n",
      "Processed file: CA_2022_clean.csv\n",
      "Processed file: CA_2023_clean.csv\n"
     ]
    }
   ],
   "source": [
    "import pandas as pd\n",
    "import numpy as np\n",
    "import matplotlib.pyplot as plt\n",
    "import statsmodels.api as sm\n",
    "from scipy.stats import kendalltau\n",
    "import geopandas as gpd\n",
    "import folium\n",
    "import seaborn as sns\n",
    "from scipy import stats\n",
    "import sys\n",
    "import os\n",
    "\n",
    "# Update paths to get source code from notebook_utils\n",
    "curr_dir = os.path.dirname(os.path.abspath('notebooks'))\n",
    "proj_dir = os.path.dirname(curr_dir)\n",
    "src_path = os.path.join(proj_dir, 'src')\n",
    "sys.path.append(src_path)\n",
    "\n",
    "from notebook_utils.preprocessing import *\n",
    "from notebook_utils.meterological_factors import *\n",
    "\n",
    "# Create combined dataframe from ghcn_cleaned files\n",
    "CA_stations_dfs = combine_files_to_dfs('../data/processed/ghcn_cleaned')"
   ]
  },
  {
   "cell_type": "markdown",
   "metadata": {},
   "source": [
    "# Collect Meterological Data"
   ]
  },
  {
   "cell_type": "markdown",
   "metadata": {},
   "source": [
    "Collecting data on humidity, wind speed, and precipitation \n",
    "\n",
    "Data Source: NOAA National Centers for Environmental Information. (2024). Global Historical Climatology Network (GHCN) - Hourly Data. NOAA. https://www.ncei.noaa.gov/products/land-based-station/ghcn-hourly"
   ]
  },
  {
   "cell_type": "code",
   "execution_count": 2,
   "metadata": {},
   "outputs": [],
   "source": [
    "#raw_folder = '../data/raw/ghcn_raw'\n",
    "# list for psv files in raw folder\n",
    "#psv_files = [f for f in os.listdir(raw_folder) if f.endswith('.psv')]"
   ]
  },
  {
   "cell_type": "markdown",
   "metadata": {},
   "source": [
    "## Merge data "
   ]
  },
  {
   "cell_type": "code",
   "execution_count": 3,
   "metadata": {},
   "outputs": [],
   "source": [
    "# Merge dataframe with meterological data\n",
    "# CA_stations_dfs = merge_meteo_data(CA_stations_dfs, raw_folder, psv_files)"
   ]
  },
  {
   "cell_type": "markdown",
   "metadata": {},
   "source": [
    "### Write to CSV files to data/processed/ghcn_meteo folder"
   ]
  },
  {
   "cell_type": "code",
   "execution_count": 4,
   "metadata": {},
   "outputs": [],
   "source": [
    "# Save combined dataframe to csv\n",
    "# create_csv_meteo(CA_stations_dfs, 'ghcn_meteo')"
   ]
  },
  {
   "cell_type": "markdown",
   "metadata": {},
   "source": [
    "## Load combined dataframe with meterological columns"
   ]
  },
  {
   "cell_type": "code",
   "execution_count": 5,
   "metadata": {},
   "outputs": [
    {
     "name": "stdout",
     "output_type": "stream",
     "text": [
      "Processed file: CA_2003_meteo.csv\n",
      "Processed file: CA_2004_meteo.csv\n",
      "Processed file: CA_2005_meteo.csv\n",
      "Processed file: CA_2006_meteo.csv\n",
      "Processed file: CA_2007_meteo.csv\n",
      "Processed file: CA_2008_meteo.csv\n",
      "Processed file: CA_2009_meteo.csv\n",
      "Processed file: CA_2010_meteo.csv\n",
      "Processed file: CA_2011_meteo.csv\n",
      "Processed file: CA_2012_meteo.csv\n",
      "Processed file: CA_2013_meteo.csv\n",
      "Processed file: CA_2014_meteo.csv\n",
      "Processed file: CA_2015_meteo.csv\n",
      "Processed file: CA_2016_meteo.csv\n",
      "Processed file: CA_2017_meteo.csv\n",
      "Processed file: CA_2018_meteo.csv\n",
      "Processed file: CA_2019_meteo.csv\n",
      "Processed file: CA_2020_meteo.csv\n",
      "Processed file: CA_2021_meteo.csv\n",
      "Processed file: CA_2022_meteo.csv\n",
      "Processed file: CA_2023_meteo.csv\n"
     ]
    }
   ],
   "source": [
    "CA_stations_df = combine_meteo_to_df('../data/processed/ghcn_meteo')"
   ]
  },
  {
   "cell_type": "code",
   "execution_count": 6,
   "metadata": {},
   "outputs": [
    {
     "data": {
      "text/html": [
       "<div>\n",
       "<style scoped>\n",
       "    .dataframe tbody tr th:only-of-type {\n",
       "        vertical-align: middle;\n",
       "    }\n",
       "\n",
       "    .dataframe tbody tr th {\n",
       "        vertical-align: top;\n",
       "    }\n",
       "\n",
       "    .dataframe thead th {\n",
       "        text-align: right;\n",
       "    }\n",
       "</style>\n",
       "<table border=\"1\" class=\"dataframe\">\n",
       "  <thead>\n",
       "    <tr style=\"text-align: right;\">\n",
       "      <th></th>\n",
       "      <th>Station_ID</th>\n",
       "      <th>Station_name</th>\n",
       "      <th>Latitude</th>\n",
       "      <th>Longitude</th>\n",
       "      <th>datetime</th>\n",
       "      <th>Year</th>\n",
       "      <th>Month</th>\n",
       "      <th>Day</th>\n",
       "      <th>Hour</th>\n",
       "      <th>Temperature</th>\n",
       "      <th>Season</th>\n",
       "      <th>County</th>\n",
       "      <th>City</th>\n",
       "      <th>wind_speed</th>\n",
       "      <th>precipitation</th>\n",
       "      <th>relative_humidity</th>\n",
       "    </tr>\n",
       "  </thead>\n",
       "  <tbody>\n",
       "    <tr>\n",
       "      <th>0</th>\n",
       "      <td>USW00023224</td>\n",
       "      <td>AUBURN MUNI AP</td>\n",
       "      <td>38.9547</td>\n",
       "      <td>-121.0819</td>\n",
       "      <td>2003-01-01 00:00:00</td>\n",
       "      <td>2003</td>\n",
       "      <td>1</td>\n",
       "      <td>1</td>\n",
       "      <td>0</td>\n",
       "      <td>5.2</td>\n",
       "      <td>Winter</td>\n",
       "      <td>Placer County</td>\n",
       "      <td>Auburn</td>\n",
       "      <td>NaN</td>\n",
       "      <td>NaN</td>\n",
       "      <td>NaN</td>\n",
       "    </tr>\n",
       "    <tr>\n",
       "      <th>1</th>\n",
       "      <td>USW00023224</td>\n",
       "      <td>AUBURN MUNI AP</td>\n",
       "      <td>38.9547</td>\n",
       "      <td>-121.0819</td>\n",
       "      <td>2003-01-01 01:00:00</td>\n",
       "      <td>2003</td>\n",
       "      <td>1</td>\n",
       "      <td>1</td>\n",
       "      <td>1</td>\n",
       "      <td>5.0</td>\n",
       "      <td>Winter</td>\n",
       "      <td>Placer County</td>\n",
       "      <td>Auburn</td>\n",
       "      <td>NaN</td>\n",
       "      <td>NaN</td>\n",
       "      <td>NaN</td>\n",
       "    </tr>\n",
       "    <tr>\n",
       "      <th>2</th>\n",
       "      <td>USW00023224</td>\n",
       "      <td>AUBURN MUNI AP</td>\n",
       "      <td>38.9547</td>\n",
       "      <td>-121.0819</td>\n",
       "      <td>2003-01-01 02:00:00</td>\n",
       "      <td>2003</td>\n",
       "      <td>1</td>\n",
       "      <td>1</td>\n",
       "      <td>2</td>\n",
       "      <td>4.8</td>\n",
       "      <td>Winter</td>\n",
       "      <td>Placer County</td>\n",
       "      <td>Auburn</td>\n",
       "      <td>NaN</td>\n",
       "      <td>NaN</td>\n",
       "      <td>NaN</td>\n",
       "    </tr>\n",
       "    <tr>\n",
       "      <th>3</th>\n",
       "      <td>USW00023224</td>\n",
       "      <td>AUBURN MUNI AP</td>\n",
       "      <td>38.9547</td>\n",
       "      <td>-121.0819</td>\n",
       "      <td>2003-01-01 03:00:00</td>\n",
       "      <td>2003</td>\n",
       "      <td>1</td>\n",
       "      <td>1</td>\n",
       "      <td>3</td>\n",
       "      <td>4.6</td>\n",
       "      <td>Winter</td>\n",
       "      <td>Placer County</td>\n",
       "      <td>Auburn</td>\n",
       "      <td>NaN</td>\n",
       "      <td>NaN</td>\n",
       "      <td>NaN</td>\n",
       "    </tr>\n",
       "    <tr>\n",
       "      <th>4</th>\n",
       "      <td>USW00023224</td>\n",
       "      <td>AUBURN MUNI AP</td>\n",
       "      <td>38.9547</td>\n",
       "      <td>-121.0819</td>\n",
       "      <td>2003-01-01 04:00:00</td>\n",
       "      <td>2003</td>\n",
       "      <td>1</td>\n",
       "      <td>1</td>\n",
       "      <td>4</td>\n",
       "      <td>4.3</td>\n",
       "      <td>Winter</td>\n",
       "      <td>Placer County</td>\n",
       "      <td>Auburn</td>\n",
       "      <td>NaN</td>\n",
       "      <td>NaN</td>\n",
       "      <td>NaN</td>\n",
       "    </tr>\n",
       "  </tbody>\n",
       "</table>\n",
       "</div>"
      ],
      "text/plain": [
       "    Station_ID    Station_name  Latitude  Longitude             datetime  \\\n",
       "0  USW00023224  AUBURN MUNI AP   38.9547  -121.0819  2003-01-01 00:00:00   \n",
       "1  USW00023224  AUBURN MUNI AP   38.9547  -121.0819  2003-01-01 01:00:00   \n",
       "2  USW00023224  AUBURN MUNI AP   38.9547  -121.0819  2003-01-01 02:00:00   \n",
       "3  USW00023224  AUBURN MUNI AP   38.9547  -121.0819  2003-01-01 03:00:00   \n",
       "4  USW00023224  AUBURN MUNI AP   38.9547  -121.0819  2003-01-01 04:00:00   \n",
       "\n",
       "   Year  Month  Day  Hour  Temperature  Season         County    City  \\\n",
       "0  2003      1    1     0          5.2  Winter  Placer County  Auburn   \n",
       "1  2003      1    1     1          5.0  Winter  Placer County  Auburn   \n",
       "2  2003      1    1     2          4.8  Winter  Placer County  Auburn   \n",
       "3  2003      1    1     3          4.6  Winter  Placer County  Auburn   \n",
       "4  2003      1    1     4          4.3  Winter  Placer County  Auburn   \n",
       "\n",
       "   wind_speed  precipitation  relative_humidity  \n",
       "0         NaN            NaN                NaN  \n",
       "1         NaN            NaN                NaN  \n",
       "2         NaN            NaN                NaN  \n",
       "3         NaN            NaN                NaN  \n",
       "4         NaN            NaN                NaN  "
      ]
     },
     "execution_count": 6,
     "metadata": {},
     "output_type": "execute_result"
    }
   ],
   "source": [
    "CA_stations_df.head()"
   ]
  },
  {
   "cell_type": "markdown",
   "metadata": {},
   "source": [
    "## Handle Missing Values"
   ]
  },
  {
   "cell_type": "markdown",
   "metadata": {},
   "source": [
    "### Delete duplicate columns"
   ]
  },
  {
   "cell_type": "code",
   "execution_count": 7,
   "metadata": {},
   "outputs": [
    {
     "data": {
      "text/html": [
       "<div>\n",
       "<style scoped>\n",
       "    .dataframe tbody tr th:only-of-type {\n",
       "        vertical-align: middle;\n",
       "    }\n",
       "\n",
       "    .dataframe tbody tr th {\n",
       "        vertical-align: top;\n",
       "    }\n",
       "\n",
       "    .dataframe thead th {\n",
       "        text-align: right;\n",
       "    }\n",
       "</style>\n",
       "<table border=\"1\" class=\"dataframe\">\n",
       "  <thead>\n",
       "    <tr style=\"text-align: right;\">\n",
       "      <th></th>\n",
       "      <th>Station_ID</th>\n",
       "      <th>Station_name</th>\n",
       "      <th>Latitude</th>\n",
       "      <th>Longitude</th>\n",
       "      <th>datetime</th>\n",
       "      <th>Year</th>\n",
       "      <th>Month</th>\n",
       "      <th>Day</th>\n",
       "      <th>Hour</th>\n",
       "      <th>County</th>\n",
       "      <th>City</th>\n",
       "      <th>Temperature</th>\n",
       "      <th>relative_humidity</th>\n",
       "      <th>precipitation</th>\n",
       "      <th>wind_speed</th>\n",
       "    </tr>\n",
       "  </thead>\n",
       "  <tbody>\n",
       "    <tr>\n",
       "      <th>8729669</th>\n",
       "      <td>USW00094299</td>\n",
       "      <td>ALTURAS MUNI AP</td>\n",
       "      <td>41.48</td>\n",
       "      <td>-120.56</td>\n",
       "      <td>2023-05-31 12:00:00</td>\n",
       "      <td>2023</td>\n",
       "      <td>5</td>\n",
       "      <td>31</td>\n",
       "      <td>12</td>\n",
       "      <td>Modoc County</td>\n",
       "      <td>Alturas</td>\n",
       "      <td>18.9</td>\n",
       "      <td>95.00</td>\n",
       "      <td>NaN</td>\n",
       "      <td>0.75</td>\n",
       "    </tr>\n",
       "    <tr>\n",
       "      <th>8729670</th>\n",
       "      <td>USW00094299</td>\n",
       "      <td>ALTURAS MUNI AP</td>\n",
       "      <td>41.48</td>\n",
       "      <td>-120.56</td>\n",
       "      <td>2023-05-31 13:00:00</td>\n",
       "      <td>2023</td>\n",
       "      <td>5</td>\n",
       "      <td>31</td>\n",
       "      <td>13</td>\n",
       "      <td>Modoc County</td>\n",
       "      <td>Alturas</td>\n",
       "      <td>20.0</td>\n",
       "      <td>93.25</td>\n",
       "      <td>NaN</td>\n",
       "      <td>0.00</td>\n",
       "    </tr>\n",
       "    <tr>\n",
       "      <th>8729671</th>\n",
       "      <td>USW00094299</td>\n",
       "      <td>ALTURAS MUNI AP</td>\n",
       "      <td>41.48</td>\n",
       "      <td>-120.56</td>\n",
       "      <td>2023-05-31 14:00:00</td>\n",
       "      <td>2023</td>\n",
       "      <td>5</td>\n",
       "      <td>31</td>\n",
       "      <td>14</td>\n",
       "      <td>Modoc County</td>\n",
       "      <td>Alturas</td>\n",
       "      <td>21.1</td>\n",
       "      <td>91.50</td>\n",
       "      <td>NaN</td>\n",
       "      <td>0.00</td>\n",
       "    </tr>\n",
       "    <tr>\n",
       "      <th>8729672</th>\n",
       "      <td>USW00094299</td>\n",
       "      <td>ALTURAS MUNI AP</td>\n",
       "      <td>41.48</td>\n",
       "      <td>-120.56</td>\n",
       "      <td>2023-05-31 15:00:00</td>\n",
       "      <td>2023</td>\n",
       "      <td>5</td>\n",
       "      <td>31</td>\n",
       "      <td>15</td>\n",
       "      <td>Modoc County</td>\n",
       "      <td>Alturas</td>\n",
       "      <td>21.1</td>\n",
       "      <td>85.50</td>\n",
       "      <td>NaN</td>\n",
       "      <td>0.00</td>\n",
       "    </tr>\n",
       "    <tr>\n",
       "      <th>8729673</th>\n",
       "      <td>USW00094299</td>\n",
       "      <td>ALTURAS MUNI AP</td>\n",
       "      <td>41.48</td>\n",
       "      <td>-120.56</td>\n",
       "      <td>2023-05-31 16:00:00</td>\n",
       "      <td>2023</td>\n",
       "      <td>5</td>\n",
       "      <td>31</td>\n",
       "      <td>16</td>\n",
       "      <td>Modoc County</td>\n",
       "      <td>Alturas</td>\n",
       "      <td>21.1</td>\n",
       "      <td>85.00</td>\n",
       "      <td>NaN</td>\n",
       "      <td>0.70</td>\n",
       "    </tr>\n",
       "  </tbody>\n",
       "</table>\n",
       "</div>"
      ],
      "text/plain": [
       "          Station_ID     Station_name  Latitude  Longitude  \\\n",
       "8729669  USW00094299  ALTURAS MUNI AP     41.48    -120.56   \n",
       "8729670  USW00094299  ALTURAS MUNI AP     41.48    -120.56   \n",
       "8729671  USW00094299  ALTURAS MUNI AP     41.48    -120.56   \n",
       "8729672  USW00094299  ALTURAS MUNI AP     41.48    -120.56   \n",
       "8729673  USW00094299  ALTURAS MUNI AP     41.48    -120.56   \n",
       "\n",
       "                    datetime  Year  Month  Day  Hour        County     City  \\\n",
       "8729669  2023-05-31 12:00:00  2023      5   31    12  Modoc County  Alturas   \n",
       "8729670  2023-05-31 13:00:00  2023      5   31    13  Modoc County  Alturas   \n",
       "8729671  2023-05-31 14:00:00  2023      5   31    14  Modoc County  Alturas   \n",
       "8729672  2023-05-31 15:00:00  2023      5   31    15  Modoc County  Alturas   \n",
       "8729673  2023-05-31 16:00:00  2023      5   31    16  Modoc County  Alturas   \n",
       "\n",
       "         Temperature  relative_humidity  precipitation  wind_speed  \n",
       "8729669         18.9              95.00            NaN        0.75  \n",
       "8729670         20.0              93.25            NaN        0.00  \n",
       "8729671         21.1              91.50            NaN        0.00  \n",
       "8729672         21.1              85.50            NaN        0.00  \n",
       "8729673         21.1              85.00            NaN        0.70  "
      ]
     },
     "execution_count": 7,
     "metadata": {},
     "output_type": "execute_result"
    }
   ],
   "source": [
    "key = ['Station_ID', 'Station_name', 'Latitude', 'Longitude', 'datetime', 'Year', 'Month', 'Day', 'Hour', 'County', 'City']\n",
    "meteorological_columns = ['Temperature','relative_humidity', 'precipitation', 'wind_speed']\n",
    "CA_stations_df = CA_stations_df.groupby(key, as_index=False)[meteorological_columns].mean().round(2)\n",
    "CA_stations_df.tail()"
   ]
  },
  {
   "cell_type": "code",
   "execution_count": 13,
   "metadata": {},
   "outputs": [],
   "source": [
    "# Apply interpolation to fill missing values\n",
    "CA_stations_df = cubic_meteo_interpolate(CA_stations_df, 'wind_speed')\n",
    "CA_stations_df = cubic_meteo_interpolate(CA_stations_df, 'precipitation')\n",
    "CA_stations_df = cubic_meteo_interpolate(CA_stations_df, 'relative_humidity')"
   ]
  },
  {
   "cell_type": "code",
   "execution_count": 15,
   "metadata": {},
   "outputs": [
    {
     "name": "stdout",
     "output_type": "stream",
     "text": [
      "Stations with 100% missing values for relative_humidity: ['USW00023271', 'USW00053151', 'USW00053152']\n",
      "Stations with 100% missing values for precipitation: ['USW00023289', 'USW00053130', 'USW00093232']\n",
      "Stations with 100% missing values for wind_speed: ['USW00023271']\n"
     ]
    }
   ],
   "source": [
    "# Check for stations with 100% missing values\n",
    "columns_to_check = ['relative_humidity', 'precipitation', 'wind_speed']\n",
    "stations_with_all_na = check_missing_by_station(CA_stations_df, columns_to_check)\n",
    "\n",
    "for column, stations in stations_with_all_na.items():\n",
    "    print(f\"Stations with 100% missing values for {column}: {stations}\")"
   ]
  },
  {
   "cell_type": "markdown",
   "metadata": {},
   "source": [
    "### Drop stations with 100% missing data for meterological columns"
   ]
  },
  {
   "cell_type": "code",
   "execution_count": 16,
   "metadata": {},
   "outputs": [],
   "source": [
    "# Drop rows with remaining NaN values in any of the key columns\n",
    "CA_stations_df.dropna(subset=['wind_speed', 'precipitation', 'relative_humidity'], inplace=True)"
   ]
  },
  {
   "cell_type": "code",
   "execution_count": 19,
   "metadata": {},
   "outputs": [
    {
     "data": {
      "text/plain": [
       "Temperature          0\n",
       "wind_speed           0\n",
       "relative_humidity    0\n",
       "precipitation        0\n",
       "dtype: int64"
      ]
     },
     "execution_count": 19,
     "metadata": {},
     "output_type": "execute_result"
    }
   ],
   "source": [
    "# Check for na values in metereological columns\n",
    "CA_stations_df[['Temperature', 'wind_speed', 'relative_humidity', 'precipitation']].isna().sum()"
   ]
  },
  {
   "cell_type": "code",
   "execution_count": 17,
   "metadata": {},
   "outputs": [
    {
     "name": "stdout",
     "output_type": "stream",
     "text": [
      "New datafrane yearly files saved to ghcn_meteo_cleaned\n"
     ]
    }
   ],
   "source": [
    "#create_csv_meteo(CA_stations_df, 'ghcn_meteo_cleaned')"
   ]
  },
  {
   "cell_type": "markdown",
   "metadata": {},
   "source": [
    "# Correlation Analysis"
   ]
  },
  {
   "cell_type": "code",
   "execution_count": null,
   "metadata": {},
   "outputs": [],
   "source": []
  },
  {
   "cell_type": "markdown",
   "metadata": {},
   "source": [
    "# Interpretation"
   ]
  },
  {
   "cell_type": "code",
   "execution_count": null,
   "metadata": {},
   "outputs": [],
   "source": []
  }
 ],
 "metadata": {
  "kernelspec": {
   "display_name": ".venv",
   "language": "python",
   "name": "python3"
  },
  "language_info": {
   "codemirror_mode": {
    "name": "ipython",
    "version": 3
   },
   "file_extension": ".py",
   "mimetype": "text/x-python",
   "name": "python",
   "nbconvert_exporter": "python",
   "pygments_lexer": "ipython3",
   "version": "3.11.9"
  }
 },
 "nbformat": 4,
 "nbformat_minor": 2
}
