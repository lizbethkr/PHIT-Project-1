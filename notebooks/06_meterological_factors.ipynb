{
 "cells": [
  {
   "cell_type": "markdown",
   "metadata": {},
   "source": [
    "# Meterological Factors"
   ]
  },
  {
   "cell_type": "markdown",
   "metadata": {},
   "source": []
  },
  {
   "cell_type": "markdown",
   "metadata": {},
   "source": []
  },
  {
   "cell_type": "markdown",
   "metadata": {},
   "source": [
    "## Set Up"
   ]
  },
  {
   "cell_type": "code",
   "execution_count": 1,
   "metadata": {},
   "outputs": [
    {
     "name": "stdout",
     "output_type": "stream",
     "text": [
      "Processed file: CA_2003_clean.csv\n",
      "Processed file: CA_2004_clean.csv\n",
      "Processed file: CA_2005_clean.csv\n",
      "Processed file: CA_2006_clean.csv\n",
      "Processed file: CA_2007_clean.csv\n",
      "Processed file: CA_2008_clean.csv\n",
      "Processed file: CA_2009_clean.csv\n",
      "Processed file: CA_2010_clean.csv\n",
      "Processed file: CA_2011_clean.csv\n",
      "Processed file: CA_2012_clean.csv\n",
      "Processed file: CA_2013_clean.csv\n",
      "Processed file: CA_2014_clean.csv\n",
      "Processed file: CA_2015_clean.csv\n",
      "Processed file: CA_2016_clean.csv\n",
      "Processed file: CA_2017_clean.csv\n",
      "Processed file: CA_2018_clean.csv\n",
      "Processed file: CA_2019_clean.csv\n",
      "Processed file: CA_2020_clean.csv\n",
      "Processed file: CA_2021_clean.csv\n",
      "Processed file: CA_2022_clean.csv\n",
      "Processed file: CA_2023_clean.csv\n"
     ]
    }
   ],
   "source": [
    "import pandas as pd\n",
    "import numpy as np\n",
    "import matplotlib.pyplot as plt\n",
    "import statsmodels.api as sm\n",
    "from scipy.stats import kendalltau\n",
    "import geopandas as gpd\n",
    "import folium\n",
    "import seaborn as sns\n",
    "from scipy import stats\n",
    "import sys\n",
    "import os\n",
    "\n",
    "# Update paths to get source code from notebook_utils\n",
    "curr_dir = os.path.dirname(os.path.abspath('notebooks'))\n",
    "proj_dir = os.path.dirname(curr_dir)\n",
    "src_path = os.path.join(proj_dir, 'src')\n",
    "sys.path.append(src_path)\n",
    "\n",
    "from notebook_utils.preprocessing import *\n",
    "from notebook_utils.meterological_factors import *\n",
    "\n",
    "# Create combined dataframe from ghcn_cleaned files\n",
    "CA_stations_dfs = combine_files_to_dfs('../data/processed/ghcn_cleaned')"
   ]
  },
  {
   "cell_type": "markdown",
   "metadata": {},
   "source": [
    "# Collect Meterological Data"
   ]
  },
  {
   "cell_type": "markdown",
   "metadata": {},
   "source": [
    "Collecting data on humidity, wind speed, and precipitation \n",
    "\n",
    "Data Source: NOAA National Centers for Environmental Information. (2024). Global Historical Climatology Network (GHCN) - Hourly Data. NOAA. https://www.ncei.noaa.gov/products/land-based-station/ghcn-hourly"
   ]
  },
  {
   "cell_type": "code",
   "execution_count": 2,
   "metadata": {},
   "outputs": [],
   "source": [
    "raw_folder = '../data/raw/ghcn_raw'\n",
    "# list for psv files in raw folder\n",
    "psv_files = [f for f in os.listdir(raw_folder) if f.endswith('.psv')]"
   ]
  },
  {
   "cell_type": "markdown",
   "metadata": {},
   "source": [
    "## Merge data "
   ]
  },
  {
   "cell_type": "code",
   "execution_count": 3,
   "metadata": {},
   "outputs": [],
   "source": [
    "# Merge dataframe with meterological data\n",
    "# CA_stations_dfs = merge_meteo_data(CA_stations_dfs, raw_folder, psv_files)"
   ]
  },
  {
   "cell_type": "markdown",
   "metadata": {},
   "source": [
    "### Write to CSV files to data/processed/ghcn_meteo folder"
   ]
  },
  {
   "cell_type": "code",
   "execution_count": 4,
   "metadata": {},
   "outputs": [],
   "source": [
    "# Save combined dataframe to csv\n",
    "# create_csv_meteo(CA_stations_dfs)"
   ]
  },
  {
   "cell_type": "markdown",
   "metadata": {},
   "source": [
    "## Load combined dataframe with meterological columns"
   ]
  },
  {
   "cell_type": "code",
   "execution_count": 5,
   "metadata": {},
   "outputs": [
    {
     "name": "stdout",
     "output_type": "stream",
     "text": [
      "Processed file: CA_2003_meteo.csv\n",
      "Processed file: CA_2004_meteo.csv\n",
      "Processed file: CA_2005_meteo.csv\n",
      "Processed file: CA_2006_meteo.csv\n",
      "Processed file: CA_2007_meteo.csv\n",
      "Processed file: CA_2008_meteo.csv\n",
      "Processed file: CA_2009_meteo.csv\n",
      "Processed file: CA_2010_meteo.csv\n",
      "Processed file: CA_2011_meteo.csv\n",
      "Processed file: CA_2012_meteo.csv\n",
      "Processed file: CA_2013_meteo.csv\n",
      "Processed file: CA_2014_meteo.csv\n",
      "Processed file: CA_2015_meteo.csv\n",
      "Processed file: CA_2016_meteo.csv\n",
      "Processed file: CA_2017_meteo.csv\n",
      "Processed file: CA_2018_meteo.csv\n",
      "Processed file: CA_2019_meteo.csv\n",
      "Processed file: CA_2020_meteo.csv\n",
      "Processed file: CA_2021_meteo.csv\n",
      "Processed file: CA_2022_meteo.csv\n",
      "Processed file: CA_2023_meteo.csv\n"
     ]
    }
   ],
   "source": [
    "CA_stations_df = combine_meteo_to_df('../data/processed/ghcn_meteo')"
   ]
  },
  {
   "cell_type": "code",
   "execution_count": 6,
   "metadata": {},
   "outputs": [
    {
     "data": {
      "text/html": [
       "<div>\n",
       "<style scoped>\n",
       "    .dataframe tbody tr th:only-of-type {\n",
       "        vertical-align: middle;\n",
       "    }\n",
       "\n",
       "    .dataframe tbody tr th {\n",
       "        vertical-align: top;\n",
       "    }\n",
       "\n",
       "    .dataframe thead th {\n",
       "        text-align: right;\n",
       "    }\n",
       "</style>\n",
       "<table border=\"1\" class=\"dataframe\">\n",
       "  <thead>\n",
       "    <tr style=\"text-align: right;\">\n",
       "      <th></th>\n",
       "      <th>Station_ID</th>\n",
       "      <th>Station_name</th>\n",
       "      <th>Latitude</th>\n",
       "      <th>Longitude</th>\n",
       "      <th>datetime</th>\n",
       "      <th>Year</th>\n",
       "      <th>Month</th>\n",
       "      <th>Day</th>\n",
       "      <th>Hour</th>\n",
       "      <th>Temperature</th>\n",
       "      <th>Season</th>\n",
       "      <th>County</th>\n",
       "      <th>City</th>\n",
       "      <th>wind_speed</th>\n",
       "      <th>precipitation</th>\n",
       "      <th>relative_humidity</th>\n",
       "    </tr>\n",
       "  </thead>\n",
       "  <tbody>\n",
       "    <tr>\n",
       "      <th>0</th>\n",
       "      <td>USW00023224</td>\n",
       "      <td>AUBURN MUNI AP</td>\n",
       "      <td>38.9547</td>\n",
       "      <td>-121.0819</td>\n",
       "      <td>2003-01-01 00:00:00</td>\n",
       "      <td>2003</td>\n",
       "      <td>1</td>\n",
       "      <td>1</td>\n",
       "      <td>0</td>\n",
       "      <td>5.2</td>\n",
       "      <td>Winter</td>\n",
       "      <td>Placer County</td>\n",
       "      <td>Auburn</td>\n",
       "      <td>NaN</td>\n",
       "      <td>NaN</td>\n",
       "      <td>NaN</td>\n",
       "    </tr>\n",
       "    <tr>\n",
       "      <th>1</th>\n",
       "      <td>USW00023224</td>\n",
       "      <td>AUBURN MUNI AP</td>\n",
       "      <td>38.9547</td>\n",
       "      <td>-121.0819</td>\n",
       "      <td>2003-01-01 01:00:00</td>\n",
       "      <td>2003</td>\n",
       "      <td>1</td>\n",
       "      <td>1</td>\n",
       "      <td>1</td>\n",
       "      <td>5.0</td>\n",
       "      <td>Winter</td>\n",
       "      <td>Placer County</td>\n",
       "      <td>Auburn</td>\n",
       "      <td>NaN</td>\n",
       "      <td>NaN</td>\n",
       "      <td>NaN</td>\n",
       "    </tr>\n",
       "    <tr>\n",
       "      <th>2</th>\n",
       "      <td>USW00023224</td>\n",
       "      <td>AUBURN MUNI AP</td>\n",
       "      <td>38.9547</td>\n",
       "      <td>-121.0819</td>\n",
       "      <td>2003-01-01 02:00:00</td>\n",
       "      <td>2003</td>\n",
       "      <td>1</td>\n",
       "      <td>1</td>\n",
       "      <td>2</td>\n",
       "      <td>4.8</td>\n",
       "      <td>Winter</td>\n",
       "      <td>Placer County</td>\n",
       "      <td>Auburn</td>\n",
       "      <td>NaN</td>\n",
       "      <td>NaN</td>\n",
       "      <td>NaN</td>\n",
       "    </tr>\n",
       "    <tr>\n",
       "      <th>3</th>\n",
       "      <td>USW00023224</td>\n",
       "      <td>AUBURN MUNI AP</td>\n",
       "      <td>38.9547</td>\n",
       "      <td>-121.0819</td>\n",
       "      <td>2003-01-01 03:00:00</td>\n",
       "      <td>2003</td>\n",
       "      <td>1</td>\n",
       "      <td>1</td>\n",
       "      <td>3</td>\n",
       "      <td>4.6</td>\n",
       "      <td>Winter</td>\n",
       "      <td>Placer County</td>\n",
       "      <td>Auburn</td>\n",
       "      <td>NaN</td>\n",
       "      <td>NaN</td>\n",
       "      <td>NaN</td>\n",
       "    </tr>\n",
       "    <tr>\n",
       "      <th>4</th>\n",
       "      <td>USW00023224</td>\n",
       "      <td>AUBURN MUNI AP</td>\n",
       "      <td>38.9547</td>\n",
       "      <td>-121.0819</td>\n",
       "      <td>2003-01-01 04:00:00</td>\n",
       "      <td>2003</td>\n",
       "      <td>1</td>\n",
       "      <td>1</td>\n",
       "      <td>4</td>\n",
       "      <td>4.3</td>\n",
       "      <td>Winter</td>\n",
       "      <td>Placer County</td>\n",
       "      <td>Auburn</td>\n",
       "      <td>NaN</td>\n",
       "      <td>NaN</td>\n",
       "      <td>NaN</td>\n",
       "    </tr>\n",
       "  </tbody>\n",
       "</table>\n",
       "</div>"
      ],
      "text/plain": [
       "    Station_ID    Station_name  Latitude  Longitude             datetime  \\\n",
       "0  USW00023224  AUBURN MUNI AP   38.9547  -121.0819  2003-01-01 00:00:00   \n",
       "1  USW00023224  AUBURN MUNI AP   38.9547  -121.0819  2003-01-01 01:00:00   \n",
       "2  USW00023224  AUBURN MUNI AP   38.9547  -121.0819  2003-01-01 02:00:00   \n",
       "3  USW00023224  AUBURN MUNI AP   38.9547  -121.0819  2003-01-01 03:00:00   \n",
       "4  USW00023224  AUBURN MUNI AP   38.9547  -121.0819  2003-01-01 04:00:00   \n",
       "\n",
       "   Year  Month  Day  Hour  Temperature  Season         County    City  \\\n",
       "0  2003      1    1     0          5.2  Winter  Placer County  Auburn   \n",
       "1  2003      1    1     1          5.0  Winter  Placer County  Auburn   \n",
       "2  2003      1    1     2          4.8  Winter  Placer County  Auburn   \n",
       "3  2003      1    1     3          4.6  Winter  Placer County  Auburn   \n",
       "4  2003      1    1     4          4.3  Winter  Placer County  Auburn   \n",
       "\n",
       "   wind_speed  precipitation  relative_humidity  \n",
       "0         NaN            NaN                NaN  \n",
       "1         NaN            NaN                NaN  \n",
       "2         NaN            NaN                NaN  \n",
       "3         NaN            NaN                NaN  \n",
       "4         NaN            NaN                NaN  "
      ]
     },
     "execution_count": 6,
     "metadata": {},
     "output_type": "execute_result"
    }
   ],
   "source": [
    "CA_stations_df.head()"
   ]
  },
  {
   "cell_type": "markdown",
   "metadata": {},
   "source": [
    "# Correlation Analysis"
   ]
  },
  {
   "cell_type": "code",
   "execution_count": null,
   "metadata": {},
   "outputs": [],
   "source": []
  },
  {
   "cell_type": "markdown",
   "metadata": {},
   "source": [
    "# Visualize Correlations"
   ]
  },
  {
   "cell_type": "code",
   "execution_count": null,
   "metadata": {},
   "outputs": [],
   "source": []
  },
  {
   "cell_type": "markdown",
   "metadata": {},
   "source": [
    "# Interpretation"
   ]
  },
  {
   "cell_type": "code",
   "execution_count": null,
   "metadata": {},
   "outputs": [],
   "source": []
  }
 ],
 "metadata": {
  "kernelspec": {
   "display_name": ".venv",
   "language": "python",
   "name": "python3"
  },
  "language_info": {
   "codemirror_mode": {
    "name": "ipython",
    "version": 3
   },
   "file_extension": ".py",
   "mimetype": "text/x-python",
   "name": "python",
   "nbconvert_exporter": "python",
   "pygments_lexer": "ipython3",
   "version": "3.11.9"
  }
 },
 "nbformat": 4,
 "nbformat_minor": 2
}
