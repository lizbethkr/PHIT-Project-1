{
 "cells": [
  {
   "cell_type": "markdown",
   "metadata": {},
   "source": [
    "# Data Exploration"
   ]
  },
  {
   "cell_type": "markdown",
   "metadata": {},
   "source": [
    "## Background "
   ]
  },
  {
   "cell_type": "markdown",
   "metadata": {},
   "source": [
    "### Data Source\n",
    "The data used in this notebook is sourced from the National Centers for Environmental Information (NCEI): [Global Historical Climatology Network (GHCN) - Hourly](https://www.ncei.noaa.gov/products/global-historical-climatology-network-hourly). Refer to their documentation and terms of use.\n"
   ]
  },
  {
   "cell_type": "markdown",
   "metadata": {},
   "source": [
    "#### Data Set\n",
    "\n",
    "Station_ID: the station identification code. The first two characters signify the FIPS country code, the third character is a network code identifying the station numbering system used, and the remaining eight characters contain the actual station ID.\n",
    "\n",
    "Station_Name: the name of the station.\n",
    "\n",
    "Year: the year the observation was taken in Coordinated Universal Time (UTC).\n",
    "\n",
    "Month: the month the observation was taken in Coordinated Universal Time (UTC).\n",
    "\n",
    "Day: the day the observation was taken in Coordinated Universal Time (UTC).\n",
    "\n",
    "Hour: the hour the observation was taken in Coordinated Universal Time (UTC).\n",
    "\n",
    "Latitude: latitude of the station (in decimal degrees). North (+); South (-).\n",
    "\n",
    "Longitude: the longitude of the station (in decimal degrees). East (+); West (-).\n",
    "\n",
    "Temperature: 2 meter (circa) Above Ground Level Air (dry bulb) Temperature (⁰C to tenths)\n"
   ]
  },
  {
   "cell_type": "markdown",
   "metadata": {},
   "source": [
    "### Data Examination"
   ]
  },
  {
   "cell_type": "code",
   "execution_count": 2,
   "metadata": {},
   "outputs": [],
   "source": [
    "import pandas as pd\n",
    "\n",
    "CA_2003_df = pd.read_csv('../data/ghcn_hourly/ghcn_processed/CA_stations_2003.csv')\n"
   ]
  },
  {
   "cell_type": "code",
   "execution_count": 3,
   "metadata": {},
   "outputs": [
    {
     "data": {
      "text/html": [
       "<div>\n",
       "<style scoped>\n",
       "    .dataframe tbody tr th:only-of-type {\n",
       "        vertical-align: middle;\n",
       "    }\n",
       "\n",
       "    .dataframe tbody tr th {\n",
       "        vertical-align: top;\n",
       "    }\n",
       "\n",
       "    .dataframe thead th {\n",
       "        text-align: right;\n",
       "    }\n",
       "</style>\n",
       "<table border=\"1\" class=\"dataframe\">\n",
       "  <thead>\n",
       "    <tr style=\"text-align: right;\">\n",
       "      <th></th>\n",
       "      <th>Station_ID</th>\n",
       "      <th>Station_name</th>\n",
       "      <th>Year</th>\n",
       "      <th>Month</th>\n",
       "      <th>Day</th>\n",
       "      <th>Hour</th>\n",
       "      <th>Latitude</th>\n",
       "      <th>Longitude</th>\n",
       "      <th>temperature</th>\n",
       "    </tr>\n",
       "  </thead>\n",
       "  <tbody>\n",
       "    <tr>\n",
       "      <th>0</th>\n",
       "      <td>GPW00000401</td>\n",
       "      <td>POINTE A PITRE INTL AP</td>\n",
       "      <td>2003</td>\n",
       "      <td>1</td>\n",
       "      <td>1</td>\n",
       "      <td>0</td>\n",
       "      <td>16.2669</td>\n",
       "      <td>-61.6</td>\n",
       "      <td>24.7</td>\n",
       "    </tr>\n",
       "    <tr>\n",
       "      <th>1</th>\n",
       "      <td>GPW00000401</td>\n",
       "      <td>POINTE A PITRE INTL AP</td>\n",
       "      <td>2003</td>\n",
       "      <td>1</td>\n",
       "      <td>1</td>\n",
       "      <td>1</td>\n",
       "      <td>16.2669</td>\n",
       "      <td>-61.6</td>\n",
       "      <td>25.0</td>\n",
       "    </tr>\n",
       "    <tr>\n",
       "      <th>2</th>\n",
       "      <td>GPW00000401</td>\n",
       "      <td>POINTE A PITRE INTL AP</td>\n",
       "      <td>2003</td>\n",
       "      <td>1</td>\n",
       "      <td>1</td>\n",
       "      <td>3</td>\n",
       "      <td>16.2669</td>\n",
       "      <td>-61.6</td>\n",
       "      <td>24.2</td>\n",
       "    </tr>\n",
       "    <tr>\n",
       "      <th>3</th>\n",
       "      <td>GPW00000401</td>\n",
       "      <td>POINTE A PITRE INTL AP</td>\n",
       "      <td>2003</td>\n",
       "      <td>1</td>\n",
       "      <td>1</td>\n",
       "      <td>4</td>\n",
       "      <td>16.2669</td>\n",
       "      <td>-61.6</td>\n",
       "      <td>24.0</td>\n",
       "    </tr>\n",
       "    <tr>\n",
       "      <th>4</th>\n",
       "      <td>GPW00000401</td>\n",
       "      <td>POINTE A PITRE INTL AP</td>\n",
       "      <td>2003</td>\n",
       "      <td>1</td>\n",
       "      <td>1</td>\n",
       "      <td>5</td>\n",
       "      <td>16.2669</td>\n",
       "      <td>-61.6</td>\n",
       "      <td>22.0</td>\n",
       "    </tr>\n",
       "  </tbody>\n",
       "</table>\n",
       "</div>"
      ],
      "text/plain": [
       "    Station_ID            Station_name  Year  Month  Day  Hour  Latitude  \\\n",
       "0  GPW00000401  POINTE A PITRE INTL AP  2003      1    1     0   16.2669   \n",
       "1  GPW00000401  POINTE A PITRE INTL AP  2003      1    1     1   16.2669   \n",
       "2  GPW00000401  POINTE A PITRE INTL AP  2003      1    1     3   16.2669   \n",
       "3  GPW00000401  POINTE A PITRE INTL AP  2003      1    1     4   16.2669   \n",
       "4  GPW00000401  POINTE A PITRE INTL AP  2003      1    1     5   16.2669   \n",
       "\n",
       "   Longitude  temperature  \n",
       "0      -61.6         24.7  \n",
       "1      -61.6         25.0  \n",
       "2      -61.6         24.2  \n",
       "3      -61.6         24.0  \n",
       "4      -61.6         22.0  "
      ]
     },
     "execution_count": 3,
     "metadata": {},
     "output_type": "execute_result"
    }
   ],
   "source": [
    "CA_2003_df.head()"
   ]
  },
  {
   "cell_type": "code",
   "execution_count": 4,
   "metadata": {},
   "outputs": [
    {
     "name": "stdout",
     "output_type": "stream",
     "text": [
      "<class 'pandas.core.frame.DataFrame'>\n",
      "RangeIndex: 941680 entries, 0 to 941679\n",
      "Data columns (total 9 columns):\n",
      " #   Column        Non-Null Count   Dtype  \n",
      "---  ------        --------------   -----  \n",
      " 0   Station_ID    941680 non-null  object \n",
      " 1   Station_name  941680 non-null  object \n",
      " 2   Year          941680 non-null  int64  \n",
      " 3   Month         941680 non-null  int64  \n",
      " 4   Day           941680 non-null  int64  \n",
      " 5   Hour          941680 non-null  int64  \n",
      " 6   Latitude      941680 non-null  float64\n",
      " 7   Longitude     941680 non-null  float64\n",
      " 8   temperature   941680 non-null  float64\n",
      "dtypes: float64(3), int64(4), object(2)\n",
      "memory usage: 64.7+ MB\n"
     ]
    }
   ],
   "source": [
    "CA_2003_df.info()"
   ]
  },
  {
   "cell_type": "markdown",
   "metadata": {},
   "source": [
    "While there are no non-null values, from looking at the head of the data, we can see that there are missing hour rows."
   ]
  },
  {
   "cell_type": "code",
   "execution_count": 5,
   "metadata": {},
   "outputs": [
    {
     "data": {
      "text/html": [
       "<div>\n",
       "<style scoped>\n",
       "    .dataframe tbody tr th:only-of-type {\n",
       "        vertical-align: middle;\n",
       "    }\n",
       "\n",
       "    .dataframe tbody tr th {\n",
       "        vertical-align: top;\n",
       "    }\n",
       "\n",
       "    .dataframe thead th {\n",
       "        text-align: right;\n",
       "    }\n",
       "</style>\n",
       "<table border=\"1\" class=\"dataframe\">\n",
       "  <thead>\n",
       "    <tr style=\"text-align: right;\">\n",
       "      <th></th>\n",
       "      <th>Year</th>\n",
       "      <th>Month</th>\n",
       "      <th>Day</th>\n",
       "      <th>Hour</th>\n",
       "      <th>Latitude</th>\n",
       "      <th>Longitude</th>\n",
       "      <th>temperature</th>\n",
       "    </tr>\n",
       "  </thead>\n",
       "  <tbody>\n",
       "    <tr>\n",
       "      <th>count</th>\n",
       "      <td>941680.0</td>\n",
       "      <td>941680.000000</td>\n",
       "      <td>941680.000000</td>\n",
       "      <td>941680.000000</td>\n",
       "      <td>941680.000000</td>\n",
       "      <td>941680.000000</td>\n",
       "      <td>941680.000000</td>\n",
       "    </tr>\n",
       "    <tr>\n",
       "      <th>mean</th>\n",
       "      <td>2003.0</td>\n",
       "      <td>6.591146</td>\n",
       "      <td>15.697363</td>\n",
       "      <td>11.511542</td>\n",
       "      <td>37.261181</td>\n",
       "      <td>-118.485979</td>\n",
       "      <td>0.295263</td>\n",
       "    </tr>\n",
       "    <tr>\n",
       "      <th>std</th>\n",
       "      <td>0.0</td>\n",
       "      <td>3.429260</td>\n",
       "      <td>8.753395</td>\n",
       "      <td>6.922126</td>\n",
       "      <td>4.975111</td>\n",
       "      <td>11.535646</td>\n",
       "      <td>5.843196</td>\n",
       "    </tr>\n",
       "    <tr>\n",
       "      <th>min</th>\n",
       "      <td>2003.0</td>\n",
       "      <td>1.000000</td>\n",
       "      <td>1.000000</td>\n",
       "      <td>0.000000</td>\n",
       "      <td>11.150000</td>\n",
       "      <td>-124.132200</td>\n",
       "      <td>-1.000000</td>\n",
       "    </tr>\n",
       "    <tr>\n",
       "      <th>25%</th>\n",
       "      <td>2003.0</td>\n",
       "      <td>4.000000</td>\n",
       "      <td>8.000000</td>\n",
       "      <td>6.000000</td>\n",
       "      <td>36.097500</td>\n",
       "      <td>-122.416100</td>\n",
       "      <td>-1.000000</td>\n",
       "    </tr>\n",
       "    <tr>\n",
       "      <th>50%</th>\n",
       "      <td>2003.0</td>\n",
       "      <td>7.000000</td>\n",
       "      <td>16.000000</td>\n",
       "      <td>12.000000</td>\n",
       "      <td>38.493000</td>\n",
       "      <td>-121.031300</td>\n",
       "      <td>-1.000000</td>\n",
       "    </tr>\n",
       "    <tr>\n",
       "      <th>75%</th>\n",
       "      <td>2003.0</td>\n",
       "      <td>10.000000</td>\n",
       "      <td>23.000000</td>\n",
       "      <td>18.000000</td>\n",
       "      <td>39.874400</td>\n",
       "      <td>-119.682700</td>\n",
       "      <td>-1.000000</td>\n",
       "    </tr>\n",
       "    <tr>\n",
       "      <th>max</th>\n",
       "      <td>2003.0</td>\n",
       "      <td>12.000000</td>\n",
       "      <td>31.000000</td>\n",
       "      <td>23.000000</td>\n",
       "      <td>41.988000</td>\n",
       "      <td>-60.833100</td>\n",
       "      <td>60.000000</td>\n",
       "    </tr>\n",
       "  </tbody>\n",
       "</table>\n",
       "</div>"
      ],
      "text/plain": [
       "           Year          Month            Day           Hour       Latitude  \\\n",
       "count  941680.0  941680.000000  941680.000000  941680.000000  941680.000000   \n",
       "mean     2003.0       6.591146      15.697363      11.511542      37.261181   \n",
       "std         0.0       3.429260       8.753395       6.922126       4.975111   \n",
       "min      2003.0       1.000000       1.000000       0.000000      11.150000   \n",
       "25%      2003.0       4.000000       8.000000       6.000000      36.097500   \n",
       "50%      2003.0       7.000000      16.000000      12.000000      38.493000   \n",
       "75%      2003.0      10.000000      23.000000      18.000000      39.874400   \n",
       "max      2003.0      12.000000      31.000000      23.000000      41.988000   \n",
       "\n",
       "           Longitude    temperature  \n",
       "count  941680.000000  941680.000000  \n",
       "mean     -118.485979       0.295263  \n",
       "std        11.535646       5.843196  \n",
       "min      -124.132200      -1.000000  \n",
       "25%      -122.416100      -1.000000  \n",
       "50%      -121.031300      -1.000000  \n",
       "75%      -119.682700      -1.000000  \n",
       "max       -60.833100      60.000000  "
      ]
     },
     "execution_count": 5,
     "metadata": {},
     "output_type": "execute_result"
    }
   ],
   "source": [
    "#CA_2003_df.describe()\n",
    "CA_2003_df.describe()"
   ]
  },
  {
   "cell_type": "markdown",
   "metadata": {},
   "source": [
    "It's odd that temperature's min, 25%, 50%, and 75% values are all 0. "
   ]
  },
  {
   "cell_type": "code",
   "execution_count": 6,
   "metadata": {},
   "outputs": [
    {
     "data": {
      "text/plain": [
       "array([24.7, 25. , 24.2, 24. , 22. , 22.5, 21. , 23.5, 27. , 28. , 29.2,\n",
       "       30. , 28.3, 27.5, 26. , 24.6, 23.4, 21.3, 20.3, 20. , 29. , 30.1,\n",
       "       29.8, 25.1, 23. , 23.8, 23.7, 28.5, 29.9, 25.4, 23.6, 22.9, 23.2,\n",
       "       23.1, 28.7, 24.5, 22.1, 20.9, 20.5, 22.4, 28.4, 29.4, 27.6, 21.8,\n",
       "       28.1, 25.5, 24.9, 24.8, 30.3, 27.3, 24.3, 29.3, 25.6, 21.1, 27.7,\n",
       "       20.1, 21.5, 22.8, 26.5, 28.9, 24.4, 22.7, 22.2, 29.1, 21.7, 27.9,\n",
       "       23.3, 22.3, 27.8, 25.3, 22.6, 19.5, 19. , 30.5, 26.7, 21.9, 21.6,\n",
       "       29.7, 23.9, 25.2, 28.8, 26.4,  2. , 20.8, 25.7, 21.4, 19.3, 29.6,\n",
       "       26.6, 21.2, 25.9, 20.4, 27.4, 28.2, 29.5, 28.6, 24.1, 25.8, 26.2,\n",
       "       27.2, 26.1, 30.2, 20.2, 26.3, 27.1, 20.6, 19.7, 26.9, 19.2, 26.8,\n",
       "       18.8, 19.9, 19.1, 19.8, 18.9, 19.4, 31. , 20.7, 30.4, 30.8, -1. ,\n",
       "       30.6, 30.9, 30.7, 32. , 31.2,  6. , 31.1, 32.1, 31.4, 31.3, 31.5,\n",
       "       31.6, 31.9, 31.8, 31.7, 32.3, 17.9, 17. , 18. ,  9. , 32.4, 33. ,\n",
       "       32.7, 32.6, 32.2, 34. ,  4. , 32.8, 32.9, 33.1, 33.2, 34.2, 33.3,\n",
       "       35. , 32.5,  7. , 37. ,  1. ,  8. , 60. , 10. , 16. , 13. , 36. ,\n",
       "       12. , 14. , 15. , 11. , 18.7, 18.5, 18.1, 17.3, 16.4, 15.5, 15.1,\n",
       "       14.1, 13.5, 12.5, 11.6, 11.1, 11.3, 10.5, 11.9, 12.4, 12.9, 13.9,\n",
       "       14.6, 15.3, 16.6, 16.7, 16.8, 16.5, 16.1, 15.8, 15.4, 14.7, 14.4,\n",
       "       14.8, 18.2, 18.4, 17.5, 17.2, 17.4, 17.6, 19.6, 18.6, 17.8, 15.9,\n",
       "       13.7, 13.3, 17.7, 15.2, 16.3, 17.1, 14.9, 18.3, 16.2, 15.6, 10.2,\n",
       "        9.9, 10.7, 10.4, 10.6,  9.8, 10.9, 11.8, 12.8, 13.1, 12.7, 12.2,\n",
       "       10.3,  9.7,  9.6,  9.3, 11.5, 12.3, 13.2, 14.2, 15.7, 14.5, 12.6,\n",
       "       13.6, 16.9, 13.4,  9.5,  7.9,  6.9,  5.5,  5.1,  4.9,  5.4,  7.4,\n",
       "        8.7, 11.4, 13.8, 11.2, 14.3, 34.1, 33.9, 34.6, 11.7, 12.1, 10.8,\n",
       "       10.1,  8.2,  8.8,  8.3,  7.6,  6.8,  6.4,  6.1,  5.7,  6.3,  7.1,\n",
       "        9.2,  7.8,  5.9,  6.7,  9.1,  8.6,  7.2,  9.4,  3.1,  2.4,  2.1,\n",
       "        2.3,  4.4,  7.7,  7.5,  8.4,  7.3,  8.9,  8.1,  8.5])"
      ]
     },
     "execution_count": 6,
     "metadata": {},
     "output_type": "execute_result"
    }
   ],
   "source": [
    "CA_2003_df['temperature'].unique()"
   ]
  },
  {
   "cell_type": "code",
   "execution_count": 7,
   "metadata": {},
   "outputs": [
    {
     "name": "stdout",
     "output_type": "stream",
     "text": [
      "      Station_ID                    Station_name  count\n",
      "0    GPW00000401          POINTE A PITRE INTL AP      3\n",
      "1    MBW00000404  MARTINIQUE AIME CESAIRE INTL A      9\n",
      "2    NLW00000413                FLAMINGO INTL AP      1\n",
      "3    STW00000405           GEORGE F L CHARLES AP     66\n",
      "4    TDW00000410  ARTHUR NAPOLEON RAYMOND ROBINS     15\n",
      "..           ...                             ...    ...\n",
      "128  USC00049855      YOSEMITE PARK HEADQUARTERS   6476\n",
      "129  USI0000KHGT                        TUSI AHP    151\n",
      "130  USI0000KSYL                     ROBERTS AHP      3\n",
      "131  USL000FWYF1                 FOWEY ROCKS  FL    609\n",
      "132  USL000LKWF1                  LAKE WORTH  FL      3\n",
      "\n",
      "[133 rows x 3 columns]\n"
     ]
    }
   ],
   "source": [
    "#get unique stations where temperature is 0 and count\n",
    "\n",
    "temp_zero = CA_2003_df[CA_2003_df['temperature'] == -1]\n",
    "zero_count = temp_zero.groupby(['Station_ID', 'Station_name']).size().reset_index(name = 'count')\n",
    "\n",
    "sorted_zero = zero_count.sort_values(by='count', ascending=False)\n",
    "top_stations = sorted_zero.head(100)\n",
    "\n",
    "print(zero_count)"
   ]
  }
 ],
 "metadata": {
  "kernelspec": {
   "display_name": "Python 3",
   "language": "python",
   "name": "python3"
  },
  "language_info": {
   "codemirror_mode": {
    "name": "ipython",
    "version": 3
   },
   "file_extension": ".py",
   "mimetype": "text/x-python",
   "name": "python",
   "nbconvert_exporter": "python",
   "pygments_lexer": "ipython3",
   "version": "3.11.2"
  }
 },
 "nbformat": 4,
 "nbformat_minor": 2
}
