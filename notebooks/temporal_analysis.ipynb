{
 "cells": [
  {
   "cell_type": "markdown",
   "metadata": {},
   "source": [
    "# Temporal Analysis of Temperature Trends"
   ]
  },
  {
   "cell_type": "markdown",
   "metadata": {},
   "source": [
    "Introduction to Notebook"
   ]
  },
  {
   "cell_type": "markdown",
   "metadata": {},
   "source": [
    "## Set Up"
   ]
  },
  {
   "cell_type": "code",
   "execution_count": 3,
   "metadata": {},
   "outputs": [
    {
     "name": "stdout",
     "output_type": "stream",
     "text": [
      "Processed file: CA_2003_clean.csv\n",
      "Processed file: CA_2004_clean.csv\n",
      "Processed file: CA_2005_clean.csv\n",
      "Processed file: CA_2006_clean.csv\n",
      "Processed file: CA_2007_clean.csv\n",
      "Processed file: CA_2008_clean.csv\n",
      "Processed file: CA_2009_clean.csv\n",
      "Processed file: CA_2010_clean.csv\n",
      "Processed file: CA_2011_clean.csv\n",
      "Processed file: CA_2012_clean.csv\n",
      "Processed file: CA_2013_clean.csv\n",
      "Processed file: CA_2014_clean.csv\n",
      "Processed file: CA_2015_clean.csv\n",
      "Processed file: CA_2016_clean.csv\n",
      "Processed file: CA_2017_clean.csv\n",
      "Processed file: CA_2018_clean.csv\n",
      "Processed file: CA_2019_clean.csv\n",
      "Processed file: CA_2020_clean.csv\n",
      "Processed file: CA_2021_clean.csv\n",
      "Processed file: CA_2022_clean.csv\n",
      "Processed file: CA_2023_clean.csv\n"
     ]
    }
   ],
   "source": [
    "import pandas as pd\n",
    "import numpy as np\n",
    "import statsmodels.api as sm\n",
    "import scipy.stats as stats\n",
    "from scipy import signal\n",
    "import pymannkendall as mk\n",
    "import sys\n",
    "import os\n",
    "\n",
    "# Update paths to get source code from notebook_utils\n",
    "curr_dir = os.path.dirname(os.path.abspath('notebooks'))\n",
    "proj_dir = os.path.dirname(curr_dir)\n",
    "src_path = os.path.join(proj_dir, 'src')\n",
    "sys.path.append(src_path)\n",
    "\n",
    "from notebook_utils.preprocessing import *\n",
    "\n",
    "# Create combined dataframe from ghcn_cleaned files\n",
    "dfs = combine_files_to_dfs('../data/processed/ghcn_cleaned')\n",
    "CA_stations = pd.concat(dfs, ignore_index=True)"
   ]
  },
  {
   "cell_type": "markdown",
   "metadata": {},
   "source": [
    "# Trend Analysis"
   ]
  },
  {
   "cell_type": "markdown",
   "metadata": {},
   "source": [
    "Analyze trends in temperature data over time."
   ]
  },
  {
   "cell_type": "markdown",
   "metadata": {},
   "source": [
    "### (Maybe) Linear Regression"
   ]
  },
  {
   "cell_type": "code",
   "execution_count": null,
   "metadata": {},
   "outputs": [],
   "source": []
  },
  {
   "cell_type": "markdown",
   "metadata": {},
   "source": [
    "### (Maybe) Mann-Kendall Trend Test"
   ]
  },
  {
   "cell_type": "code",
   "execution_count": null,
   "metadata": {},
   "outputs": [],
   "source": []
  },
  {
   "cell_type": "markdown",
   "metadata": {},
   "source": [
    "# Seasonal Variations"
   ]
  },
  {
   "cell_type": "markdown",
   "metadata": {},
   "source": [
    "Examine seasonal patterns and changes in temperature across different years."
   ]
  },
  {
   "cell_type": "code",
   "execution_count": null,
   "metadata": {},
   "outputs": [],
   "source": []
  },
  {
   "cell_type": "markdown",
   "metadata": {},
   "source": [
    "# Summarize Findings"
   ]
  },
  {
   "cell_type": "markdown",
   "metadata": {},
   "source": []
  }
 ],
 "metadata": {
  "kernelspec": {
   "display_name": "Python 3",
   "language": "python",
   "name": "python3"
  },
  "language_info": {
   "codemirror_mode": {
    "name": "ipython",
    "version": 3
   },
   "file_extension": ".py",
   "mimetype": "text/x-python",
   "name": "python",
   "nbconvert_exporter": "python",
   "pygments_lexer": "ipython3",
   "version": "3.11.2"
  }
 },
 "nbformat": 4,
 "nbformat_minor": 2
}
