{
 "cells": [
  {
   "cell_type": "markdown",
   "metadata": {},
   "source": [
    "# Temporal Analysis of Temperature Trends"
   ]
  },
  {
   "cell_type": "markdown",
   "metadata": {},
   "source": [
    "This notebook aims to use the EDA and apply statistical methods in order to analyze the current trend of temperature, in hopes of predicting how temperature will change in the future"
   ]
  },
  {
   "cell_type": "markdown",
   "metadata": {},
   "source": [
    "### Learnings:\n",
    "- apply linear regression method to predict the current/future trend of temperature based on the R^2 value and slope of the graph\n",
    "- apply the mann kendall test to determine if temperature has a general upward or downward trend\n",
    "- based on statistical methods, evaluate whether temperature variation throughout the decades are drastically changing or not"
   ]
  },
  {
   "cell_type": "markdown",
   "metadata": {},
   "source": [
    "## Set Up"
   ]
  },
  {
   "cell_type": "code",
   "execution_count": 3,
   "metadata": {},
   "outputs": [
    {
     "name": "stdout",
     "output_type": "stream",
     "text": [
      "Processed file: CA_2003_clean.csv\n",
      "Processed file: CA_2004_clean.csv\n",
      "Processed file: CA_2005_clean.csv\n",
      "Processed file: CA_2006_clean.csv\n",
      "Processed file: CA_2007_clean.csv\n",
      "Processed file: CA_2008_clean.csv\n",
      "Processed file: CA_2009_clean.csv\n",
      "Processed file: CA_2010_clean.csv\n",
      "Processed file: CA_2011_clean.csv\n",
      "Processed file: CA_2012_clean.csv\n",
      "Processed file: CA_2013_clean.csv\n",
      "Processed file: CA_2014_clean.csv\n",
      "Processed file: CA_2015_clean.csv\n",
      "Processed file: CA_2016_clean.csv\n",
      "Processed file: CA_2017_clean.csv\n",
      "Processed file: CA_2018_clean.csv\n",
      "Processed file: CA_2019_clean.csv\n",
      "Processed file: CA_2020_clean.csv\n",
      "Processed file: CA_2021_clean.csv\n",
      "Processed file: CA_2022_clean.csv\n",
      "Processed file: CA_2023_clean.csv\n"
     ]
    }
   ],
   "source": [
    "import pandas as pd\n",
    "import numpy as np\n",
    "import statsmodels.api as sm\n",
    "import scipy.stats as stats\n",
    "from scipy import signal\n",
    "from scipy import stats\n",
    "import pymannkendall as mk\n",
    "import sys\n",
    "import os\n",
    "\n",
    "# Update paths to get source code from notebook_utils\n",
    "curr_dir = os.path.dirname(os.path.abspath('notebooks'))\n",
    "proj_dir = os.path.dirname(curr_dir)\n",
    "src_path = os.path.join(proj_dir, 'src')\n",
    "sys.path.append(src_path)\n",
    "\n",
    "from notebook_utils.preprocessing import *\n",
    "from notebook_utils.temporal_analysis import *\n",
    "\n",
    "# Create combined dataframe from ghcn_cleaned files\n",
    "CA_stations_dfs = combine_files_to_dfs('../data/processed/ghcn_cleaned')"
   ]
  },
  {
   "cell_type": "markdown",
   "metadata": {},
   "source": [
    "# Trend Analysis"
   ]
  },
  {
   "cell_type": "markdown",
   "metadata": {},
   "source": [
    "Analyze trends in temperature data over time."
   ]
  },
  {
   "cell_type": "markdown",
   "metadata": {},
   "source": [
    "### (Maybe) Linear Regression"
   ]
  },
  {
   "cell_type": "code",
   "execution_count": null,
   "metadata": {},
   "outputs": [],
   "source": []
  },
  {
   "cell_type": "markdown",
   "metadata": {},
   "source": [
    "### (Maybe) Mann-Kendall Trend Test"
   ]
  },
  {
   "cell_type": "code",
   "execution_count": null,
   "metadata": {},
   "outputs": [],
   "source": []
  },
  {
   "cell_type": "markdown",
   "metadata": {},
   "source": [
    "# Seasonal Variations"
   ]
  },
  {
   "cell_type": "markdown",
   "metadata": {},
   "source": [
    "Examine seasonal patterns and changes in temperature across different years."
   ]
  },
  {
   "cell_type": "markdown",
   "metadata": {},
   "source": [
    "### Calculate Mean Temperature by season"
   ]
  },
  {
   "cell_type": "code",
   "execution_count": 12,
   "metadata": {},
   "outputs": [
    {
     "name": "stdout",
     "output_type": "stream",
     "text": [
      "   Season  Temperature\n",
      "0    Fall      16.3726\n",
      "1  Spring      14.3939\n",
      "2  Summer      21.2061\n",
      "3  Winter       9.6668\n"
     ]
    }
   ],
   "source": [
    "seasonal_avg = CA_stations_dfs.groupby('Season')['Temperature'].mean().round(4).reset_index()\n",
    "print(seasonal_avg)"
   ]
  },
  {
   "cell_type": "code",
   "execution_count": 18,
   "metadata": {},
   "outputs": [
    {
     "data": {
      "image/png": "[encoded data removed]",
      "text/plain": [
       "<Figure size 640x480 with 1 Axes>"
      ]
     },
     "metadata": {},
     "output_type": "display_data"
    }
   ],
   "source": [
    "sns.boxplot(x='Season', y='Temperature', data=CA_stations_dfs)\n",
    "plt.title('Temperature Distribution by Season')\n",
    "plt.ylabel('Temperature (°C)')\n",
    "plt.xlabel('Season')\n",
    "plt.show()"
   ]
  },
  {
   "cell_type": "code",
   "execution_count": 21,
   "metadata": {},
   "outputs": [
    {
     "name": "stdout",
     "output_type": "stream",
     "text": [
      "ANOVA Result: F_onewayResult(statistic=1920002.2897670402, pvalue=0.0)\n"
     ]
    }
   ],
   "source": [
    "from scipy import stats\n",
    "\n",
    "seasons = CA_stations_dfs['Season'].unique()\n",
    "temps_by_season = [CA_stations_dfs[CA_stations_dfs['Season'] == season]['Temperature'] for season in seasons]\n",
    "anova_result = stats.f_oneway(*temps_by_season)\n",
    "\n",
    "print('ANOVA Result:', anova_result)"
   ]
  },
  {
   "cell_type": "markdown",
   "metadata": {},
   "source": [
    "# Summarize Findings"
   ]
  },
  {
   "cell_type": "markdown",
   "metadata": {},
   "source": []
  }
 ],
 "metadata": {
  "kernelspec": {
   "display_name": "Python 3",
   "language": "python",
   "name": "python3"
  },
  "language_info": {
   "codemirror_mode": {
    "name": "ipython",
    "version": 3
   },
   "file_extension": ".py",
   "mimetype": "text/x-python",
   "name": "python",
   "nbconvert_exporter": "python",
   "pygments_lexer": "ipython3",
   "version": "3.11.2"
  }
 },
 "nbformat": 4,
 "nbformat_minor": 2
}
