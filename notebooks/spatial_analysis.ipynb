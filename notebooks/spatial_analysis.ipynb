{
 "cells": [
  {
   "cell_type": "markdown",
   "metadata": {},
   "source": [
    "# Spatial Analysis of Temperature Variations"
   ]
  },
  {
   "cell_type": "markdown",
   "metadata": {},
   "source": [
    "This notebook focuses on the spatial analysis of temperature variations across different regions of California. The objective is to map average temperatures at different geographic levels, identify regions with significant temperature variations and visualize possible hotspots."
   ]
  },
  {
   "cell_type": "markdown",
   "metadata": {},
   "source": [
    "### Learnings:\n",
    "- Identify regions in California with significant temperature variations.\n",
    "- Detect potential temperature hotspots.\n",
    "- Understand the spatial distribution of temperature."
   ]
  },
  {
   "cell_type": "markdown",
   "metadata": {},
   "source": [
    "## Set Up"
   ]
  },
  {
   "cell_type": "code",
   "execution_count": 1,
   "metadata": {},
   "outputs": [
    {
     "name": "stdout",
     "output_type": "stream",
     "text": [
      "Processed file: CA_2003_clean.csv\n",
      "Processed file: CA_2004_clean.csv\n",
      "Processed file: CA_2005_clean.csv\n",
      "Processed file: CA_2006_clean.csv\n",
      "Processed file: CA_2007_clean.csv\n",
      "Processed file: CA_2008_clean.csv\n",
      "Processed file: CA_2009_clean.csv\n",
      "Processed file: CA_2010_clean.csv\n",
      "Processed file: CA_2011_clean.csv\n",
      "Processed file: CA_2012_clean.csv\n",
      "Processed file: CA_2013_clean.csv\n",
      "Processed file: CA_2014_clean.csv\n",
      "Processed file: CA_2015_clean.csv\n",
      "Processed file: CA_2016_clean.csv\n",
      "Processed file: CA_2017_clean.csv\n",
      "Processed file: CA_2018_clean.csv\n",
      "Processed file: CA_2019_clean.csv\n",
      "Processed file: CA_2020_clean.csv\n",
      "Processed file: CA_2021_clean.csv\n",
      "Processed file: CA_2022_clean.csv\n",
      "Processed file: CA_2023_clean.csv\n"
     ]
    }
   ],
   "source": [
    "import pandas as pd\n",
    "import geopandas as gpd\n",
    "import matplotlib.pyplot as plt\n",
    "import shapely.geometry as Point\n",
    "import folium \n",
    "import os\n",
    "import sys\n",
    "\n",
    "# Update paths to get source code from notebook_utils\n",
    "curr_dir = os.path.dirname(os.path.abspath('notebooks'))\n",
    "proj_dir = os.path.dirname(curr_dir)\n",
    "src_path = os.path.join(proj_dir, 'src')\n",
    "sys.path.append(src_path)\n",
    "\n",
    "from notebook_utils.spatial_analysis import *\n",
    "from notebook_utils.preprocessing import *\n",
    "\n",
    "# Create combined dataframe from ghcn_cleaned files\n",
    "dfs = combine_files_to_dfs('../data/processed/ghcn_cleaned')\n",
    "CA_stations = pd.concat(dfs, ignore_index=True)"
   ]
  },
  {
   "cell_type": "markdown",
   "metadata": {},
   "source": [
    "# Load Spatial Data"
   ]
  },
  {
   "cell_type": "code",
   "execution_count": 2,
   "metadata": {},
   "outputs": [],
   "source": [
    "# Load California places, county, and state boundary shapefiles\n",
    "gdf_county = gpd.read_file('../data/raw/shapefiles/CA_County_Boundaries/CA_Counties.shp')\n",
    "gdf_places = gpd.read_file('../data/raw/shapefiles/CA_Places_Boundaries/CA_Places.shp')\n",
    "gdf_state = gpd.read_file('../data/raw/shapefiles/CA_State_Boundaries/CA_State.shp')"
   ]
  },
  {
   "cell_type": "markdown",
   "metadata": {},
   "source": [
    "# Merge Data"
   ]
  },
  {
   "cell_type": "markdown",
   "metadata": {},
   "source": [
    "### Combine temperature data with spatial data based on station locations"
   ]
  },
  {
   "cell_type": "code",
   "execution_count": null,
   "metadata": {},
   "outputs": [],
   "source": []
  },
  {
   "cell_type": "markdown",
   "metadata": {},
   "source": [
    "# Visualization"
   ]
  },
  {
   "cell_type": "code",
   "execution_count": null,
   "metadata": {},
   "outputs": [],
   "source": []
  },
  {
   "cell_type": "markdown",
   "metadata": {},
   "source": [
    "# (Optional) Interpolation"
   ]
  },
  {
   "cell_type": "code",
   "execution_count": null,
   "metadata": {},
   "outputs": [],
   "source": []
  }
 ],
 "metadata": {
  "kernelspec": {
   "display_name": "Python 3",
   "language": "python",
   "name": "python3"
  },
  "language_info": {
   "codemirror_mode": {
    "name": "ipython",
    "version": 3
   },
   "file_extension": ".py",
   "mimetype": "text/x-python",
   "name": "python",
   "nbconvert_exporter": "python",
   "pygments_lexer": "ipython3",
   "version": "3.11.2"
  }
 },
 "nbformat": 4,
 "nbformat_minor": 2
}
