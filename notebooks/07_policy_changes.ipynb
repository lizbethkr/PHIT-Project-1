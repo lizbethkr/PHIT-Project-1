{
 "cells": [
  {
   "cell_type": "markdown",
   "metadata": {},
   "source": [
    "# Impact of Policy Changes"
   ]
  },
  {
   "cell_type": "markdown",
   "metadata": {},
   "source": []
  },
  {
   "cell_type": "markdown",
   "metadata": {},
   "source": []
  },
  {
   "cell_type": "markdown",
   "metadata": {},
   "source": [
    "## Set Up"
   ]
  },
  {
   "cell_type": "code",
   "execution_count": 2,
   "metadata": {},
   "outputs": [
    {
     "name": "stdout",
     "output_type": "stream",
     "text": [
      "Processed file: 2003_ghcn_meteo_cleaned.csv\n",
      "Processed file: 2004_ghcn_meteo_cleaned.csv\n",
      "Processed file: 2005_ghcn_meteo_cleaned.csv\n",
      "Processed file: 2006_ghcn_meteo_cleaned.csv\n",
      "Processed file: 2007_ghcn_meteo_cleaned.csv\n",
      "Processed file: 2008_ghcn_meteo_cleaned.csv\n",
      "Processed file: 2009_ghcn_meteo_cleaned.csv\n",
      "Processed file: 2010_ghcn_meteo_cleaned.csv\n",
      "Processed file: 2011_ghcn_meteo_cleaned.csv\n",
      "Processed file: 2012_ghcn_meteo_cleaned.csv\n",
      "Processed file: 2013_ghcn_meteo_cleaned.csv\n",
      "Processed file: 2014_ghcn_meteo_cleaned.csv\n",
      "Processed file: 2015_ghcn_meteo_cleaned.csv\n",
      "Processed file: 2016_ghcn_meteo_cleaned.csv\n",
      "Processed file: 2017_ghcn_meteo_cleaned.csv\n",
      "Processed file: 2018_ghcn_meteo_cleaned.csv\n",
      "Processed file: 2019_ghcn_meteo_cleaned.csv\n",
      "Processed file: 2020_ghcn_meteo_cleaned.csv\n",
      "Processed file: 2021_ghcn_meteo_cleaned.csv\n",
      "Processed file: 2022_ghcn_meteo_cleaned.csv\n",
      "Processed file: 2023_ghcn_meteo_cleaned.csv\n"
     ]
    }
   ],
   "source": [
    "import pandas as pd\n",
    "import numpy as np\n",
    "import matplotlib.pyplot as plt\n",
    "import statsmodels.api as sm\n",
    "from scipy.stats import kendalltau\n",
    "import geopandas as gpd\n",
    "import folium\n",
    "import seaborn as sns\n",
    "from scipy import stats\n",
    "import sys\n",
    "import os\n",
    "\n",
    "# Update paths to get source code from notebook_utils\n",
    "curr_dir = os.path.dirname(os.path.abspath('notebooks'))\n",
    "proj_dir = os.path.dirname(curr_dir)\n",
    "src_path = os.path.join(proj_dir, 'src')\n",
    "sys.path.append(src_path)\n",
    "\n",
    "from notebook_utils.preprocessing import *\n",
    "from notebook_utils.meterological_factors import *\n",
    "\n",
    "# Create combined dataframe from ghcn_cleaned files\n",
    "CA_stations_dfs = combine_files_to_dfs('../data/processed/ghcn_meteo_cleaned')"
   ]
  }
 ],
 "metadata": {
  "kernelspec": {
   "display_name": ".venv",
   "language": "python",
   "name": "python3"
  },
  "language_info": {
   "codemirror_mode": {
    "name": "ipython",
    "version": 3
   },
   "file_extension": ".py",
   "mimetype": "text/x-python",
   "name": "python",
   "nbconvert_exporter": "python",
   "pygments_lexer": "ipython3",
   "version": "3.11.9"
  }
 },
 "nbformat": 4,
 "nbformat_minor": 2
}
